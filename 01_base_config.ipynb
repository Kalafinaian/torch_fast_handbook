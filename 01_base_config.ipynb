{
 "cells": [
  {
   "cell_type": "code",
   "execution_count": 1,
   "id": "5272070e-100f-49dd-9279-a9eb2d80255a",
   "metadata": {},
   "outputs": [],
   "source": [
    "import os\n",
    "import tqdm\n",
    "import torch\n",
    "import random\n",
    "import shutil\n",
    "\n",
    "import numpy as np"
   ]
  },
  {
   "cell_type": "markdown",
   "id": "b5642ab7-5b20-4802-86a5-5ab070091a6a",
   "metadata": {},
   "source": [
    "# 1. Base Config"
   ]
  },
  {
   "cell_type": "markdown",
   "id": "f812e141-879f-4b28-85f8-cc406d7f12e7",
   "metadata": {},
   "source": [
    "## 1.1 Check version of pytorch"
   ]
  },
  {
   "cell_type": "code",
   "execution_count": 2,
   "id": "6bdc5fa7-3b98-4a21-96e9-4dafc2c29ad3",
   "metadata": {},
   "outputs": [
    {
     "name": "stdout",
     "output_type": "stream",
     "text": [
      "torch version  1.12.0+cu116\n",
      "cuda version  11.6\n",
      "cuDNN version  8302\n",
      "gpu type  NVIDIA GeForce GTX 1660 Ti\n"
     ]
    }
   ],
   "source": [
    "print(\"torch version \",torch.__version__)               # PyTorch version\n",
    "print(\"cuda version \", torch.version.cuda)              # Corresponding CUDA version\n",
    "print(\"cuDNN version \", torch.backends.cudnn.version())  # Corresponding cuDNN version\n",
    "print(\"gpu type \", torch.cuda.get_device_name(0))   # GPU type"
   ]
  },
  {
   "cell_type": "markdown",
   "id": "5f82210b-5fdb-4d7e-83de-dc6e652bedaf",
   "metadata": {},
   "source": [
    "## 1.2 Update pytroch"
   ]
  },
  {
   "cell_type": "markdown",
   "id": "59951561-9cd1-4c79-9cec-d82ce7b0c7dc",
   "metadata": {},
   "source": [
    "\n",
    "```\n",
    "pip install --update torch\n",
    "```"
   ]
  },
  {
   "cell_type": "markdown",
   "id": "c6ef28bc-bba9-4916-ba26-e2eb5933159b",
   "metadata": {},
   "source": [
    "# 1.3 Set random number"
   ]
  },
  {
   "cell_type": "code",
   "execution_count": 3,
   "id": "ad7a7f70-2563-4659-8001-9cb1860b7883",
   "metadata": {},
   "outputs": [],
   "source": [
    "torch.manual_seed(0)\n",
    "torch.cuda.manual_seed_all(0)"
   ]
  },
  {
   "cell_type": "markdown",
   "id": "93b5d108-eff9-4dea-b0a0-6ab8d0fe6d12",
   "metadata": {},
   "source": [
    "# 1.4 Run a tensor in Specified GPU"
   ]
  },
  {
   "cell_type": "code",
   "execution_count": 4,
   "id": "b698cfe4-1a8a-459f-bc4e-f866ad320c2c",
   "metadata": {},
   "outputs": [
    {
     "name": "stdout",
     "output_type": "stream",
     "text": [
      "tensor([[0.4963, 0.7682],\n",
      "        [0.0885, 0.1320]], device='cuda:0')\n"
     ]
    }
   ],
   "source": [
    "a = torch.rand(2,2)\n",
    "a = a.to(\"cuda:0\")\n",
    "print(a)"
   ]
  },
  {
   "cell_type": "markdown",
   "id": "58a212a6-2637-47a9-ae94-97311dfe7369",
   "metadata": {},
   "source": [
    "## 1.5 CUDA support ?"
   ]
  },
  {
   "cell_type": "code",
   "execution_count": 5,
   "id": "075ee100-9a9b-4ab0-b9cc-19e4b06c41c5",
   "metadata": {},
   "outputs": [
    {
     "name": "stdout",
     "output_type": "stream",
     "text": [
      "cuda ok?  True\n"
     ]
    }
   ],
   "source": [
    "print(\"cuda ok? \", torch.cuda.is_available())"
   ]
  },
  {
   "cell_type": "markdown",
   "id": "3ff70290-cb0b-41d7-b707-1d9496b555d9",
   "metadata": {},
   "source": [
    "## 1.6 Set mode with cuDNN benchmark\n",
    "\n",
    "Benchmark will accelarate up train speed, but each there exists random situlation in each train step."
   ]
  },
  {
   "cell_type": "code",
   "execution_count": 6,
   "id": "926ea744-76d5-40aa-901e-93a06b0ad379",
   "metadata": {},
   "outputs": [],
   "source": [
    "torch.backends.cudnn.benchmark = True"
   ]
  },
  {
   "cell_type": "markdown",
   "id": "da927fd5-bd6d-4d10-9a33-2df5c8cb6b4b",
   "metadata": {},
   "source": [
    "To avoid this situlaiton, you should run the code"
   ]
  },
  {
   "cell_type": "code",
   "execution_count": 7,
   "id": "7cfc539f-3cb4-465c-af78-3fc1edbe5f70",
   "metadata": {},
   "outputs": [],
   "source": [
    "torch.backends.cudnn.deterministic = True"
   ]
  },
  {
   "cell_type": "markdown",
   "id": "4ad8512c-d692-4f4a-9976-5f1642637be2",
   "metadata": {},
   "source": [
    "# 1.7 Clear cache of GPU"
   ]
  },
  {
   "cell_type": "code",
   "execution_count": 8,
   "id": "909315dd-faaa-4d06-93ce-82943470d8f0",
   "metadata": {},
   "outputs": [],
   "source": [
    "torch.cuda.empty_cache()"
   ]
  },
  {
   "cell_type": "markdown",
   "id": "3b3189d7-071e-4aeb-af83-c1d5ad205607",
   "metadata": {},
   "source": [
    "OR"
   ]
  },
  {
   "cell_type": "markdown",
   "id": "607100c1-e083-42b4-a53d-4b2515c99ff3",
   "metadata": {},
   "source": [
    "### find the progress and kill it\n",
    "\n",
    "ps aux | grep python\n",
    "\n",
    "kill -9 [pid]"
   ]
  },
  {
   "cell_type": "markdown",
   "id": "c66c6417-ff56-4f51-94c3-d4b6ef913031",
   "metadata": {},
   "source": [
    "OR"
   ]
  },
  {
   "cell_type": "markdown",
   "id": "de2bd464-4e9f-49f0-b2e0-f6dc1a6a33f8",
   "metadata": {},
   "source": [
    "### use nvidia cmd\n",
    "nvidia-smi --gpu-reset -i [gpu_id]"
   ]
  },
  {
   "cell_type": "code",
   "execution_count": null,
   "id": "8dde1f5d-0862-40e1-96d9-7e3f5c093df9",
   "metadata": {},
   "outputs": [],
   "source": []
  },
  {
   "cell_type": "code",
   "execution_count": null,
   "id": "ee9bb419-3246-4dab-a2a8-59e2d265324b",
   "metadata": {},
   "outputs": [],
   "source": []
  }
 ],
 "metadata": {
  "kernelspec": {
   "display_name": "Python 3",
   "language": "python",
   "name": "python3"
  },
  "language_info": {
   "codemirror_mode": {
    "name": "ipython",
    "version": 3
   },
   "file_extension": ".py",
   "mimetype": "text/x-python",
   "name": "python",
   "nbconvert_exporter": "python",
   "pygments_lexer": "ipython3",
   "version": "3.7.4"
  }
 },
 "nbformat": 4,
 "nbformat_minor": 5
}
