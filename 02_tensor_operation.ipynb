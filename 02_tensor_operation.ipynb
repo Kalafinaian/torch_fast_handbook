{
 "cells": [
  {
   "cell_type": "code",
   "execution_count": 19,
   "id": "de4c542d-5ca6-494c-bcf7-821a591eac17",
   "metadata": {},
   "outputs": [],
   "source": [
    "import os\n",
    "import tqdm\n",
    "import torch\n",
    "import random\n",
    "import shutil\n",
    "import numpy as np"
   ]
  },
  {
   "cell_type": "markdown",
   "id": "62879b5d-7984-4377-b1e9-f2229e1bf370",
   "metadata": {},
   "source": [
    "# 2 Tenosr Operation"
   ]
  },
  {
   "cell_type": "markdown",
   "id": "4f4c8c63-55c5-4650-8ef7-a877e9b66fb5",
   "metadata": {},
   "source": [
    "## 2.1 Base information of tensor"
   ]
  },
  {
   "cell_type": "code",
   "execution_count": 20,
   "id": "8c76cf0e-974c-4cc9-8db8-b95bebe9574f",
   "metadata": {},
   "outputs": [
    {
     "name": "stdout",
     "output_type": "stream",
     "text": [
      "tensor([[0.9583, 0.4626, 0.3595, 0.2660, 0.5610],\n",
      "        [0.3327, 0.6713, 0.1741, 0.6833, 0.7309]])\n",
      "type  torch.FloatTensor\n",
      "size  torch.Size([2, 5])\n",
      "dim  2\n"
     ]
    }
   ],
   "source": [
    "tensor = torch.rand([2, 5])\n",
    "print(tensor)\n",
    "print(\"type \", tensor.type())   # Data type\n",
    "print(\"size \", tensor.size())   # Shape of the tensor. It is a subclass of Python tuple\n",
    "print(\"dim \", tensor.dim())    # Number of dimensions."
   ]
  },
  {
   "cell_type": "markdown",
   "id": "094452d1-3e51-40e5-9a75-717a7d2d12c4",
   "metadata": {},
   "source": [
    "## 2.2 Data type conversion"
   ]
  },
  {
   "cell_type": "code",
   "execution_count": 21,
   "id": "28d4de81-8e30-4517-845e-feeeb67316a7",
   "metadata": {},
   "outputs": [
    {
     "name": "stdout",
     "output_type": "stream",
     "text": [
      "torch.cuda.FloatTensor\n",
      "torch.FloatTensor\n",
      "torch.FloatTensor\n",
      "torch.LongTensor\n"
     ]
    }
   ],
   "source": [
    "# Set default tensor type. Float in PyTorch is much faster than double.\n",
    "torch.set_default_tensor_type(torch.FloatTensor)\n",
    "\n",
    "# Type convertions.\n",
    "tensor = tensor.cuda()\n",
    "print(tensor.type())\n",
    "\n",
    "tensor = tensor.cpu()\n",
    "print(tensor.type())\n",
    "\n",
    "tensor = tensor.float()\n",
    "print(tensor.type())\n",
    "\n",
    "tensor = tensor.long()\n",
    "print(tensor.type())"
   ]
  },
  {
   "cell_type": "markdown",
   "id": "7dc1e53d-074e-4b80-83dd-33fe0398edc1",
   "metadata": {},
   "source": [
    "## 2.3 Conversion between torch.Tensor and np.ndarray"
   ]
  },
  {
   "cell_type": "code",
   "execution_count": 22,
   "id": "6ec5315e-04f8-429d-929d-7ae0e4f3df18",
   "metadata": {},
   "outputs": [
    {
     "name": "stdout",
     "output_type": "stream",
     "text": [
      "<class 'numpy.ndarray'>\n",
      "[[ 0.43321455  0.17727555 -0.3749385  -0.42611787  0.35810104]\n",
      " [-0.04723984  0.39202416  0.11038958  0.38510168 -0.4190972 ]]\n",
      "\n",
      "tensor([[ 0.4332,  0.1773, -0.3749, -0.4261,  0.3581],\n",
      "        [-0.0472,  0.3920,  0.1104,  0.3851, -0.4191]])\n"
     ]
    }
   ],
   "source": [
    "tensor = torch.empty((2,5)).normal_(mean=0.,std=0.6)  # torch.Tensor -> np.ndarray. \n",
    "\n",
    "np_val = tensor.cpu().numpy()\n",
    "print(type(np_val))\n",
    "print(np_val)\n",
    "print()\n",
    "\n",
    "tensor = torch.Tensor(np_val).float()  # np.ndarray -> torch.Tensor.\n",
    "print(tensor)\n",
    "\n",
    "# tensor = torch.from_numpy(np_val.copy()).float()  # If ndarray has negative stride"
   ]
  },
  {
   "cell_type": "markdown",
   "id": "b2df62e5-6aaf-4802-bac8-2a63f2d48e5a",
   "metadata": {},
   "source": [
    "## 2.4 Tensor Reshape"
   ]
  },
  {
   "cell_type": "code",
   "execution_count": 23,
   "id": "0ee356b6-f64f-44e6-9cb8-e4aa18fca307",
   "metadata": {},
   "outputs": [
    {
     "name": "stdout",
     "output_type": "stream",
     "text": [
      "torch.Size([2, 5])\n",
      "tensor([[0.0901, 0.5989, 0.5745, 0.4537, 0.3352],\n",
      "        [0.9838, 0.9304, 0.9748, 0.7096, 0.2812]])\n",
      "\n",
      "torch.Size([5, 2])\n",
      "tensor([[0.0901, 0.5989],\n",
      "        [0.5745, 0.4537],\n",
      "        [0.3352, 0.9838],\n",
      "        [0.9304, 0.9748],\n",
      "        [0.7096, 0.2812]])\n",
      "\n"
     ]
    }
   ],
   "source": [
    "tensor = torch.rand((2,5))\n",
    "print(tensor.size())\n",
    "print(tensor)\n",
    "print()\n",
    "\n",
    "tensor = torch.reshape(tensor, (5,2))\n",
    "print(tensor.size())\n",
    "print(tensor)\n",
    "print()"
   ]
  },
  {
   "cell_type": "markdown",
   "id": "6e4b7fbe-5020-43ef-9b79-03a04868218d",
   "metadata": {},
   "source": [
    "## 2.5 Tensor permute"
   ]
  },
  {
   "cell_type": "code",
   "execution_count": 24,
   "id": "d852436c-7065-4c81-b7e7-b342dab04716",
   "metadata": {},
   "outputs": [
    {
     "name": "stdout",
     "output_type": "stream",
     "text": [
      "torch.Size([16, 16, 3])\n",
      "\n",
      "torch.Size([3, 16, 16])\n",
      "\n"
     ]
    }
   ],
   "source": [
    "a = torch.randn(16, 16, 3) \n",
    "print(a.size())\n",
    "print()\n",
    "\n",
    "b = a.permute(2,0,1)\n",
    "print(b.size())\n",
    "print()"
   ]
  },
  {
   "cell_type": "markdown",
   "id": "121fc2e0-6ee9-4de5-894f-55e900687159",
   "metadata": {},
   "source": [
    "## 2.6 Tensor Copy"
   ]
  },
  {
   "cell_type": "code",
   "execution_count": 25,
   "id": "aae5e61a-95fd-4985-9ae2-5542bfc591fe",
   "metadata": {},
   "outputs": [
    {
     "name": "stdout",
     "output_type": "stream",
     "text": [
      "3260576823080\n",
      "3260576823640\n",
      "\n",
      "3260576670328\n",
      "3260576823080\n",
      "\n",
      "3260576823960\n",
      "3260576823960\n",
      "\n"
     ]
    }
   ],
   "source": [
    "# Operation                 |  New/Shared memory | Still in computation graph |\n",
    "tensor.clone()            # |        New         |          Yes               |\n",
    "tensor.detach()           # |      Shared        |          No                |\n",
    "tensor.contiguous()       # |      Shared        |          Yes               |\n",
    "    \n",
    "a = torch.rand(2,2)\n",
    "print(id(a))\n",
    "b = a.clone()\n",
    "print(id(b))\n",
    "print()\n",
    "\n",
    "a = torch.rand(2,2)\n",
    "print(id(a))\n",
    "b = a.detach()\n",
    "print(id(b))\n",
    "print()\n",
    "\n",
    "a = torch.rand(2,2)\n",
    "print(id(a))\n",
    "b = a.contiguous()\n",
    "print(id(b))\n",
    "print()"
   ]
  },
  {
   "cell_type": "markdown",
   "id": "b7b6dd18-a788-4201-b21c-59cbfe37d0b7",
   "metadata": {},
   "source": [
    "## 2.7 Tensor joint"
   ]
  },
  {
   "cell_type": "code",
   "execution_count": 26,
   "id": "46cd2246-bd95-4dee-b746-dadce23bed82",
   "metadata": {},
   "outputs": [
    {
     "name": "stdout",
     "output_type": "stream",
     "text": [
      "0 torch.Size([1, 5])\n",
      "1 torch.Size([2, 5])\n",
      "2 torch.Size([3, 5])\n",
      "cat done(given dim) torch.Size([6, 5])\n",
      "\n",
      "0 torch.Size([1, 5])\n",
      "1 torch.Size([1, 5])\n",
      "2 torch.Size([1, 5])\n",
      "stack done(new dim) torch.Size([3, 1, 5])\n"
     ]
    }
   ],
   "source": [
    "lt_in = [torch.rand([1, 5]), torch.rand([2, 5]), torch.rand([3, 5])]\n",
    "tensor = torch.cat(lt_in, dim=0)\n",
    "for i, e in enumerate(lt_in):\n",
    "    print(i, e.shape)\n",
    "print(\"cat done(given dim)\", tensor.shape)\n",
    "print()\n",
    "\n",
    "lt_in = [torch.rand([1, 5]), torch.rand([1, 5]), torch.rand([1, 5])]\n",
    "tensor = torch.stack(lt_in, dim=0)\n",
    "for i, e in enumerate(lt_in):\n",
    "    print(i, e.shape)\n",
    "print(\"stack done(new dim)\", tensor.shape)"
   ]
  },
  {
   "cell_type": "markdown",
   "id": "afd7e3fc-9797-4eb7-8cdb-bf01596f363f",
   "metadata": {},
   "source": [
    "## 2.8 Tensor squeeze"
   ]
  },
  {
   "cell_type": "code",
   "execution_count": 27,
   "id": "9b4132d1-f834-46fe-b348-d9e12cde2efa",
   "metadata": {},
   "outputs": [
    {
     "name": "stdout",
     "output_type": "stream",
     "text": [
      "torch.Size([1, 2, 2])\n",
      "\n",
      "torch.Size([2, 2])\n",
      "torch.Size([1, 1, 2, 2])\n"
     ]
    }
   ],
   "source": [
    "A = torch.rand(1,2,2)\n",
    "print(A.size())\n",
    "print()\n",
    "\n",
    "B = A.squeeze(0)\n",
    "print(B.size())\n",
    "\n",
    "C = A.unsqueeze(0)\n",
    "print(C.size())"
   ]
  },
  {
   "cell_type": "markdown",
   "id": "61dc5d4d-8f04-47a1-b61f-b283e081744b",
   "metadata": {},
   "source": [
    "## 2.9 Get non-zero/zero element"
   ]
  },
  {
   "cell_type": "code",
   "execution_count": 28,
   "id": "924d1cce-66d6-49d8-814a-bde662343870",
   "metadata": {},
   "outputs": [
    {
     "name": "stdout",
     "output_type": "stream",
     "text": [
      "tensor([[0.4312, 0.6417, 0.8034],\n",
      "        [0.6325, 0.2299, 0.5263],\n",
      "        [0.2293, 0.9935, 0.9587]])\n",
      "tensor([[0, 0],\n",
      "        [0, 1],\n",
      "        [0, 2],\n",
      "        [1, 0],\n",
      "        [1, 1],\n",
      "        [1, 2],\n",
      "        [2, 0],\n",
      "        [2, 1],\n",
      "        [2, 2]])\n",
      "tensor([], size=(0, 2), dtype=torch.int64)\n",
      "9\n",
      "0\n"
     ]
    }
   ],
   "source": [
    "tensor = torch.rand(3,3)\n",
    "print(tensor)\n",
    "print(torch.nonzero(tensor))               # Index of non-zero elements\n",
    "print(torch.nonzero(tensor == 0))          # Index of zero elements\n",
    "print(torch.nonzero(tensor).size(0))       # Number of non-zero elements\n",
    "print(torch.nonzero(tensor == 0).size(0))  # Number of zero elements"
   ]
  },
  {
   "cell_type": "markdown",
   "id": "40f5e587-a122-4230-8ca2-0ebe4589095c",
   "metadata": {},
   "source": [
    "## 2.10  Tensor A == Tensor B ?"
   ]
  },
  {
   "cell_type": "code",
   "execution_count": 29,
   "id": "f22328b5-a628-4a5d-8577-696c8f93b476",
   "metadata": {},
   "outputs": [
    {
     "name": "stdout",
     "output_type": "stream",
     "text": [
      "True\n"
     ]
    }
   ],
   "source": [
    "t1 = torch.Tensor([1., 2.])\n",
    "t2 = torch.Tensor([1., 2.])\n",
    "# print(torch.allclose(t1, t2))  # float tensor\n",
    "print(torch.equal(t1, t2))     # int tensor"
   ]
  },
  {
   "cell_type": "markdown",
   "id": "206e2828-0e3e-401b-b379-bd8adbd73cb3",
   "metadata": {},
   "source": [
    "## 2.11 Tensor Expand"
   ]
  },
  {
   "cell_type": "code",
   "execution_count": 30,
   "id": "c2e553ee-fba8-440f-9f1f-f37405175304",
   "metadata": {},
   "outputs": [
    {
     "name": "stdout",
     "output_type": "stream",
     "text": [
      "torch.Size([3, 3])\n",
      "tensor([[0.9771, 0.8003, 0.0468],\n",
      "        [0.5345, 0.3217, 0.1815],\n",
      "        [0.3309, 0.9524, 0.9430]])\n",
      "\n",
      "torch.Size([3, 3, 2, 2])\n",
      "tensor([[[[0.9771, 0.9771],\n",
      "          [0.9771, 0.9771]],\n",
      "\n",
      "         [[0.8003, 0.8003],\n",
      "          [0.8003, 0.8003]],\n",
      "\n",
      "         [[0.0468, 0.0468],\n",
      "          [0.0468, 0.0468]]],\n",
      "\n",
      "\n",
      "        [[[0.5345, 0.5345],\n",
      "          [0.5345, 0.5345]],\n",
      "\n",
      "         [[0.3217, 0.3217],\n",
      "          [0.3217, 0.3217]],\n",
      "\n",
      "         [[0.1815, 0.1815],\n",
      "          [0.1815, 0.1815]]],\n",
      "\n",
      "\n",
      "        [[[0.3309, 0.3309],\n",
      "          [0.3309, 0.3309]],\n",
      "\n",
      "         [[0.9524, 0.9524],\n",
      "          [0.9524, 0.9524]],\n",
      "\n",
      "         [[0.9430, 0.9430],\n",
      "          [0.9430, 0.9430]]]])\n"
     ]
    }
   ],
   "source": [
    "# Expand tensor of shape 64*512 to shape 64*512*7*7.\n",
    "t = torch.rand((3,3))\n",
    "print(t.size())\n",
    "print(t)\n",
    "print()\n",
    "\n",
    "out = torch.reshape(t, (3, 3, 1, 1)).expand(3, 3, 2, 2)\n",
    "print(out.size())\n",
    "print(out)"
   ]
  },
  {
   "cell_type": "markdown",
   "id": "d2e0ab88-aa2c-43a5-874e-d3e6a58beab6",
   "metadata": {},
   "source": [
    "## 2.12 Matrix multiplication"
   ]
  },
  {
   "cell_type": "code",
   "execution_count": 31,
   "id": "409ac92a-c7d7-4a5a-9b22-1f0c3def1e41",
   "metadata": {},
   "outputs": [
    {
     "name": "stdout",
     "output_type": "stream",
     "text": [
      "torch.Size([2, 2])\n",
      "tensor([[0.8587, 0.9241],\n",
      "        [0.2222, 0.1121]])\n",
      "\n",
      "torch.Size([6, 2, 2])\n",
      "tensor([[[0.8572, 0.7703],\n",
      "         [1.2667, 1.1246]],\n",
      "\n",
      "        [[0.7691, 0.8951],\n",
      "         [0.5062, 1.0030]],\n",
      "\n",
      "        [[0.6330, 0.8653],\n",
      "         [0.5238, 0.5088]],\n",
      "\n",
      "        [[0.5692, 1.5732],\n",
      "         [0.1961, 0.6572]],\n",
      "\n",
      "        [[0.3212, 0.0726],\n",
      "         [0.8005, 0.1217]],\n",
      "\n",
      "        [[0.7462, 0.5391],\n",
      "         [0.6449, 0.6279]]])\n",
      "\n",
      "torch.Size([3, 3])\n",
      "tensor([[5.8773e-04, 2.8564e-01, 4.0787e-01],\n",
      "        [1.2965e-01, 6.2974e-01, 1.9321e-01],\n",
      "        [5.2008e-02, 9.8460e-02, 2.0476e-01]])\n",
      "\n"
     ]
    }
   ],
   "source": [
    "# Matrix multiplication: (m*n) * (n*p) -> (m*p).\n",
    "t1 = torch.rand((2,3))\n",
    "t2 = torch.rand((3,2))\n",
    "r = t1 @ t2\n",
    "print(r.size())\n",
    "print(r)\n",
    "print()\n",
    "\n",
    "# Batch matrix multiplication: (b*m*n) * (b*n*p) -> (b*m*p).\n",
    "t1 = torch.rand((6, 2, 3))\n",
    "t2 = torch.rand((6, 3, 2))\n",
    "r = t1 @ t2\n",
    "print(r.size())\n",
    "print(r)\n",
    "print()\n",
    "\n",
    "# Element-wise multiplication.\n",
    "t1 = torch.rand((3,3))\n",
    "t2 = torch.rand((3,3))\n",
    "r = t1 * t2\n",
    "print(r.size())\n",
    "print(r)\n",
    "print()"
   ]
  },
  {
   "cell_type": "markdown",
   "id": "f3aa90da-d309-4425-bf8d-a4a8d5cf01a6",
   "metadata": {},
   "source": [
    "## 2.13 Get value from tensor which only has one element"
   ]
  },
  {
   "cell_type": "code",
   "execution_count": 32,
   "id": "95f3a7b8-3747-4c1a-81b1-562ee48da96f",
   "metadata": {},
   "outputs": [
    {
     "name": "stdout",
     "output_type": "stream",
     "text": [
      "<class 'float'> 0.2751450538635254\n"
     ]
    }
   ],
   "source": [
    "tensor = torch.rand(1)\n",
    "val = tensor.item()\n",
    "print(type(val), val)"
   ]
  },
  {
   "cell_type": "markdown",
   "id": "f82c4fb0-810b-4cd3-a628-fa8a22cd769b",
   "metadata": {},
   "source": [
    "## 2.14 Convert int label to one-hot vector"
   ]
  },
  {
   "cell_type": "code",
   "execution_count": 33,
   "id": "fc436e50-d49b-43a0-b7f9-8879c39cefca",
   "metadata": {},
   "outputs": [
    {
     "name": "stdout",
     "output_type": "stream",
     "text": [
      "t_label \n",
      "torch.Size([6, 1])\n",
      "tensor([[1],\n",
      "        [2],\n",
      "        [1],\n",
      "        [0],\n",
      "        [1],\n",
      "        [2]])\n",
      "\n",
      "one_hot \n",
      "torch.Size([6, 3])\n",
      "tensor([[0, 1, 0],\n",
      "        [0, 0, 1],\n",
      "        [0, 1, 0],\n",
      "        [1, 0, 0],\n",
      "        [0, 1, 0],\n",
      "        [0, 0, 1]])\n"
     ]
    }
   ],
   "source": [
    "n_batch, n_class_num = 6, 3\n",
    "t_label = torch.Tensor([random.randint(0, n_class_num-1) for i in range(n_batch)]).long().reshape((n_batch,1))\n",
    "print(\"t_label \")\n",
    "print(t_label.size())\n",
    "print(t_label)\n",
    "print()\n",
    "\n",
    "one_hot = torch.zeros(t_label.shape[0], 3).scatter_(1, t_label, 1).long() # (dim, index, value)\n",
    "print(\"one_hot \")\n",
    "print(one_hot.size())\n",
    "print(one_hot)"
   ]
  },
  {
   "cell_type": "markdown",
   "id": "30b712db-66ab-48b0-a6e2-c0450deb5c4d",
   "metadata": {},
   "source": [
    "## 2.15 Compute Euclid Distance of two arrays"
   ]
  },
  {
   "cell_type": "code",
   "execution_count": 34,
   "id": "9f381a18-63c5-4eb3-a974-ccde804a3008",
   "metadata": {},
   "outputs": [
    {
     "name": "stdout",
     "output_type": "stream",
     "text": [
      "torch.Size([2, 6])\n",
      "tensor([[0.5152, 0.5893, 1.1472, 0.7117, 0.5127, 0.4700],\n",
      "        [0.8942, 0.3089, 0.4937, 0.3873, 0.9069, 0.4022]])\n"
     ]
    }
   ],
   "source": [
    "# X1 is of shape m*d, X2 is of shape n*d.\n",
    "X1 = torch.rand((2, 3))\n",
    "X2 = torch.rand((6, 3))\n",
    "D = torch.sqrt(torch.sum((X1[:,None,:] - X2) ** 2, dim=2))\n",
    "print(D.size())\n",
    "print(D)"
   ]
  },
  {
   "cell_type": "markdown",
   "id": "4ce23879-fcba-4760-9752-2e826c825a39",
   "metadata": {},
   "source": [
    "## 2.16 Tensor ouput with limitation (torch.clamp)\n",
    "\n",
    "ouput elemets must be limited in [min, max]"
   ]
  },
  {
   "cell_type": "code",
   "execution_count": 35,
   "id": "fa377016-5e0b-4148-b590-c81cdbc1728c",
   "metadata": {},
   "outputs": [
    {
     "name": "stdout",
     "output_type": "stream",
     "text": [
      "tensor([[0.9868, 0.7366, 0.9044],\n",
      "        [0.9795, 0.8925, 0.5298],\n",
      "        [0.2456, 0.1175, 0.0241]])\n",
      "tensor([[0.8000, 0.7366, 0.8000],\n",
      "        [0.8000, 0.8000, 0.5298],\n",
      "        [0.2456, 0.2000, 0.2000]])\n"
     ]
    }
   ],
   "source": [
    "A = torch.rand(3,3)\n",
    "print(A)\n",
    "B = torch.clamp(A, 0.2, 0.8)\n",
    "print(B)"
   ]
  },
  {
   "cell_type": "markdown",
   "id": "8bd2d0bb-c753-4072-beaf-11b1a759f238",
   "metadata": {},
   "source": [
    "## 2.17 Gather data with index (torch.gather)"
   ]
  },
  {
   "cell_type": "code",
   "execution_count": 36,
   "id": "096e4189-6d22-4011-bbb4-11a3325b5c65",
   "metadata": {},
   "outputs": [
    {
     "name": "stdout",
     "output_type": "stream",
     "text": [
      "tensor([[ 1,  2,  3],\n",
      "        [ 4,  5,  6],\n",
      "        [ 7, 12,  9]])\n",
      "\n",
      "tensor([[ 1,  5,  9],\n",
      "        [ 4, 12,  3]])\n"
     ]
    }
   ],
   "source": [
    "a = torch.tensor([[1, 2, 3], [4, 5, 6], [7, 12, 9]])\n",
    "print(a)\n",
    "print()\n",
    "\n",
    "b = torch.gather(input=a, dim=0, index=torch.tensor([[0,1,2], [1,2,0]]))\n",
    "print(b)"
   ]
  },
  {
   "cell_type": "markdown",
   "id": "6283976f-f46e-4d07-84a3-505eb8c997fc",
   "metadata": {},
   "source": [
    "```\n",
    "1 1st layout(row), 0-th col, 0-th elemet\n",
    "5 1st layout(row), 1-th col, 1-th elemet\n",
    "9 1st layout(row), 2-th col, 2-th elemet\n",
    "\n",
    "4 2nd layout(row), 0-th col, 1-th elemet\n",
    "12 2nd layout(row), 1-th col, 2-th elemet\n",
    "3 2nd layout(row), 2-th col, 0-th elemet\n",
    "```"
   ]
  },
  {
   "cell_type": "code",
   "execution_count": null,
   "id": "d9da85ad-a1bd-4e9c-8037-09c416ae2eb8",
   "metadata": {},
   "outputs": [],
   "source": []
  },
  {
   "cell_type": "code",
   "execution_count": null,
   "id": "56032d68-58a2-4bbc-b001-5fef6233850b",
   "metadata": {},
   "outputs": [],
   "source": []
  },
  {
   "cell_type": "code",
   "execution_count": null,
   "id": "aa82f32d-6341-4cef-bdbd-697955bece5d",
   "metadata": {},
   "outputs": [],
   "source": []
  },
  {
   "cell_type": "code",
   "execution_count": null,
   "id": "c107296c-95bb-4cec-aa80-b219ab1354bd",
   "metadata": {},
   "outputs": [],
   "source": []
  },
  {
   "cell_type": "code",
   "execution_count": null,
   "id": "3afac782-a9a0-437a-b153-2c2b2ec9105d",
   "metadata": {},
   "outputs": [],
   "source": []
  }
 ],
 "metadata": {
  "kernelspec": {
   "display_name": "Python 3",
   "language": "python",
   "name": "python3"
  },
  "language_info": {
   "codemirror_mode": {
    "name": "ipython",
    "version": 3
   },
   "file_extension": ".py",
   "mimetype": "text/x-python",
   "name": "python",
   "nbconvert_exporter": "python",
   "pygments_lexer": "ipython3",
   "version": "3.7.4"
  }
 },
 "nbformat": 4,
 "nbformat_minor": 5
}
